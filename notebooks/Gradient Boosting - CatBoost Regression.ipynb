{
 "cells": [
  {
   "cell_type": "code",
   "execution_count": 1,
   "metadata": {
    "scrolled": true
   },
   "outputs": [],
   "source": [
    "import numpy as np\n",
    "import pandas as pd\n",
    "import matplotlib.pyplot as plt\n",
    "import seaborn as sns\n",
    "import catboost as cb\n",
    "import optuna"
   ]
  },
  {
   "cell_type": "code",
   "execution_count": 2,
   "metadata": {},
   "outputs": [],
   "source": [
    "from sklearn.model_selection import train_test_split, cross_val_score\n",
    "from sklearn.metrics import mean_squared_error"
   ]
  },
  {
   "cell_type": "code",
   "execution_count": 3,
   "metadata": {},
   "outputs": [],
   "source": [
    "from joblib import dump, load"
   ]
  },
  {
   "cell_type": "code",
   "execution_count": 4,
   "metadata": {},
   "outputs": [],
   "source": [
    "train = pd.read_csv('../data/tabular-playground-series-aug-2021/train.csv', index_col='id')"
   ]
  },
  {
   "cell_type": "code",
   "execution_count": 5,
   "metadata": {},
   "outputs": [],
   "source": [
    "test = pd.read_csv('../data/tabular-playground-series-aug-2021/test.csv', index_col='id')"
   ]
  },
  {
   "cell_type": "code",
   "execution_count": 6,
   "metadata": {},
   "outputs": [],
   "source": [
    "X = train.drop('loss', axis=1)\n",
    "y = train.loss"
   ]
  },
  {
   "cell_type": "code",
   "execution_count": 7,
   "metadata": {},
   "outputs": [],
   "source": [
    "def gradient_boost(boost):\n",
    "    score = cross_val_score(boost, X, y, scoring='neg_root_mean_squared_error', n_jobs=-1, cv=5, verbose=10)\n",
    "    print(score.mean())\n",
    "    return boost.fit(X, y)"
   ]
  },
  {
   "cell_type": "code",
   "execution_count": 8,
   "metadata": {},
   "outputs": [],
   "source": [
    "def objective_cb(trial):\n",
    "    params = {\n",
    "        'objective': 'RMSE',\n",
    "        'eval_metric': 'RMSE',\n",
    "        'silent': True,\n",
    "        'thread_count': 4,\n",
    "        'num_trees': trial.suggest_int('num_trees', 1000, 2000),\n",
    "        'learning_rate': trial.suggest_float('learning_rate', 0.01, 0.2),\n",
    "        'l2_leaf_reg': trial.suggest_float('l2_leaf_reg', 0.0, 5.0),\n",
    "        'bootstrap_type': trial.suggest_categorical('bootstrap_type', ['Bayesian', 'Bernoulli', 'MVS']),\n",
    "        'random_strength': trial.suggest_float('random_strength', 1.0, 20.0),\n",
    "        'max_depth': trial.suggest_int('max_depth', 0, 8),\n",
    "        'rsm': trial.suggest_float('rsm', 0.0, 1.0),\n",
    "    }\n",
    "    \n",
    "    cat = cb.CatBoostRegressor(**params)\n",
    "    \n",
    "    score = cross_val_score(cat, X, y, scoring='neg_root_mean_squared_error', n_jobs=-1, cv=3)\n",
    "    rmse = score.mean()\n",
    "    return rmse"
   ]
  },
  {
   "cell_type": "code",
   "execution_count": 9,
   "metadata": {},
   "outputs": [],
   "source": [
    "# study = optuna.create_study(direction=\"maximize\")\n",
    "# study.optimize(objective_cb, n_trials=100)\n",
    "# print(study.best_trial)"
   ]
  },
  {
   "cell_type": "code",
   "execution_count": 10,
   "metadata": {},
   "outputs": [],
   "source": [
    "# study.best_params"
   ]
  },
  {
   "cell_type": "code",
   "execution_count": 11,
   "metadata": {},
   "outputs": [
    {
     "name": "stderr",
     "output_type": "stream",
     "text": [
      "[Parallel(n_jobs=-1)]: Using backend LokyBackend with 8 concurrent workers.\n",
      "[Parallel(n_jobs=-1)]: Done   2 out of   5 | elapsed:  6.5min remaining:  9.8min\n",
      "[Parallel(n_jobs=-1)]: Done   3 out of   5 | elapsed:  6.5min remaining:  4.4min\n",
      "[Parallel(n_jobs=-1)]: Done   5 out of   5 | elapsed:  6.6min remaining:    0.0s\n",
      "[Parallel(n_jobs=-1)]: Done   5 out of   5 | elapsed:  6.6min finished\n"
     ]
    },
    {
     "name": "stdout",
     "output_type": "stream",
     "text": [
      "-7.843046668177912\n"
     ]
    }
   ],
   "source": [
    "best_params = {\n",
    "    'objective': 'RMSE',\n",
    "    'eval_metric': 'RMSE',\n",
    "    'thread_count': 4,\n",
    "    'silent': True,\n",
    "    'num_trees': 10000,\n",
    "    'l2_leaf_reg': 1.2,\n",
    "    'bootstrap_type': 'Bernoulli',\n",
    "    'random_strength': 10.3,\n",
    "    'max_depth': 5,\n",
    "    'rsm': 0.2\n",
    "}\n",
    "\n",
    "cat = gradient_boost(cb.CatBoostRegressor(**best_params))"
   ]
  },
  {
   "cell_type": "code",
   "execution_count": 12,
   "metadata": {},
   "outputs": [
    {
     "data": {
      "text/plain": [
       "['../cat.joblib']"
      ]
     },
     "execution_count": 12,
     "metadata": {},
     "output_type": "execute_result"
    }
   ],
   "source": [
    "dump(cat, '../cat.joblib') "
   ]
  }
 ],
 "metadata": {
  "kernelspec": {
   "display_name": "Python 3",
   "language": "python",
   "name": "python3"
  },
  "language_info": {
   "codemirror_mode": {
    "name": "ipython",
    "version": 3
   },
   "file_extension": ".py",
   "mimetype": "text/x-python",
   "name": "python",
   "nbconvert_exporter": "python",
   "pygments_lexer": "ipython3",
   "version": "3.7.6"
  }
 },
 "nbformat": 4,
 "nbformat_minor": 4
}
