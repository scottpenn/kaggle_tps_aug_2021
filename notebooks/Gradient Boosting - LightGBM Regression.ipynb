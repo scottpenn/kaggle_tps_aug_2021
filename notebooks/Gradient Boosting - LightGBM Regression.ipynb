{
 "cells": [
  {
   "cell_type": "code",
   "execution_count": 2,
   "metadata": {
    "scrolled": true
   },
   "outputs": [],
   "source": [
    "import numpy as np\n",
    "import pandas as pd\n",
    "import matplotlib.pyplot as plt\n",
    "import seaborn as sns\n",
    "import lightgbm as lgbm\n",
    "import optuna"
   ]
  },
  {
   "cell_type": "code",
   "execution_count": 3,
   "metadata": {},
   "outputs": [],
   "source": [
    "from sklearn.model_selection import train_test_split, cross_val_score\n",
    "from sklearn.metrics import mean_squared_error"
   ]
  },
  {
   "cell_type": "code",
   "execution_count": 4,
   "metadata": {},
   "outputs": [],
   "source": [
    "train = pd.read_csv('../data/tabular-playground-series-aug-2021/train.csv', index_col='id')"
   ]
  },
  {
   "cell_type": "code",
   "execution_count": 5,
   "metadata": {},
   "outputs": [],
   "source": [
    "test = pd.read_csv('../data/tabular-playground-series-aug-2021/test.csv', index_col='id')"
   ]
  },
  {
   "cell_type": "code",
   "execution_count": null,
   "metadata": {},
   "outputs": [],
   "source": []
  },
  {
   "cell_type": "code",
   "execution_count": 12,
   "metadata": {},
   "outputs": [],
   "source": [
    "X = train.drop('loss', axis=1)\n",
    "y = train.loss"
   ]
  },
  {
   "cell_type": "code",
   "execution_count": 25,
   "metadata": {},
   "outputs": [],
   "source": [
    "def gradient_boost(boost):\n",
    "    score = cross_val_score(boost, X, y, scoring='neg_root_mean_squared_error', n_jobs=-1, cv=5, verbose=10)\n",
    "    print(score.mean())\n",
    "    return boost.fit(X, y)"
   ]
  },
  {
   "cell_type": "code",
   "execution_count": 33,
   "metadata": {},
   "outputs": [],
   "source": [
    "def objective_lgbm(trial):\n",
    "    params = {\n",
    "        'objective': 'rmse',\n",
    "        'metric': 'rmse',\n",
    "        'boosting_type': 'gbdt',\n",
    "        'num_threads': 4,\n",
    "        'feature_pre_filter': trial.suggest_categorical('feature_pre_filter', [True, False]),\n",
    "        'lambda_l1': trial.suggest_float('lambda_l1', 0.0, 5.0),\n",
    "        'lambda_l2': trial.suggest_float('lambda_l2', 0.0, 5.0),\n",
    "        'num_leaves': trial.suggest_int('num_leaves', 5, 50),\n",
    "        'num_trees': trial.suggest_int('num_trees', 100, 1000),\n",
    "        'learning_rate': trial.suggest_float('learning_rate', 0.01, 0.2),\n",
    "        'feature_fraction': trial.suggest_float('feature_fraction', 0.2, 1.0), \n",
    "        'min_data_in_leaf': trial.suggest_int('min_data_in_leaf', 10, 100)}\n",
    "    \n",
    "    lg = lgbm.LGBMRegressor(**params)\n",
    "    \n",
    "    score = cross_val_score(lg, X, y, scoring='neg_root_mean_squared_error', n_jobs=-1, cv=3)\n",
    "    rmse = score.mean()\n",
    "    return rmse"
   ]
  },
  {
   "cell_type": "code",
   "execution_count": 34,
   "metadata": {},
   "outputs": [
    {
     "name": "stderr",
     "output_type": "stream",
     "text": [
      "\u001b[32m[I 2021-08-10 10:16:39,778]\u001b[0m A new study created in memory with name: no-name-28c247f5-94c8-4d4e-b2b2-2b6556114aca\u001b[0m\n",
      "\u001b[32m[I 2021-08-10 10:16:52,441]\u001b[0m Trial 0 finished with value: -7.861281856947074 and parameters: {'feature_pre_filter': True, 'lambda_l1': 3.7163829027737454, 'lambda_l2': 4.7177508612934425, 'num_leaves': 13, 'num_trees': 369, 'learning_rate': 0.03610742106224141, 'feature_fraction': 0.5515103965834554, 'min_data_in_leaf': 100}. Best is trial 0 with value: -7.861281856947074.\u001b[0m\n",
      "\u001b[32m[I 2021-08-10 10:17:21,577]\u001b[0m Trial 1 finished with value: -7.915529848437409 and parameters: {'feature_pre_filter': True, 'lambda_l1': 4.101354592785546, 'lambda_l2': 1.8749590174207493, 'num_leaves': 35, 'num_trees': 713, 'learning_rate': 0.11572876838270583, 'feature_fraction': 0.944395426639909, 'min_data_in_leaf': 75}. Best is trial 0 with value: -7.861281856947074.\u001b[0m\n",
      "\u001b[32m[I 2021-08-10 10:17:32,212]\u001b[0m Trial 2 finished with value: -7.85999568378677 and parameters: {'feature_pre_filter': False, 'lambda_l1': 0.21671686893090347, 'lambda_l2': 2.4589567973075606, 'num_leaves': 25, 'num_trees': 269, 'learning_rate': 0.07943240177444302, 'feature_fraction': 0.5707253713550515, 'min_data_in_leaf': 28}. Best is trial 2 with value: -7.85999568378677.\u001b[0m\n",
      "\u001b[32m[I 2021-08-10 10:17:46,806]\u001b[0m Trial 3 finished with value: -7.860486398737187 and parameters: {'feature_pre_filter': False, 'lambda_l1': 3.457642530474683, 'lambda_l2': 0.3470513894366972, 'num_leaves': 8, 'num_trees': 804, 'learning_rate': 0.11313569967514754, 'feature_fraction': 0.6199541465564882, 'min_data_in_leaf': 58}. Best is trial 2 with value: -7.85999568378677.\u001b[0m\n",
      "\u001b[32m[I 2021-08-10 10:17:53,266]\u001b[0m Trial 4 finished with value: -7.862505475792717 and parameters: {'feature_pre_filter': False, 'lambda_l1': 4.3233368806771875, 'lambda_l2': 1.0796835002230538, 'num_leaves': 7, 'num_trees': 170, 'learning_rate': 0.12525362627122721, 'feature_fraction': 0.47248435589246046, 'min_data_in_leaf': 64}. Best is trial 2 with value: -7.85999568378677.\u001b[0m\n",
      "\u001b[32m[I 2021-08-10 10:18:10,384]\u001b[0m Trial 5 finished with value: -7.970366786302827 and parameters: {'feature_pre_filter': False, 'lambda_l1': 0.6214321610234924, 'lambda_l2': 0.4119274232063064, 'num_leaves': 30, 'num_trees': 905, 'learning_rate': 0.1727631620864986, 'feature_fraction': 0.2707081629554365, 'min_data_in_leaf': 79}. Best is trial 2 with value: -7.85999568378677.\u001b[0m\n",
      "\u001b[32m[I 2021-08-10 10:18:15,626]\u001b[0m Trial 6 finished with value: -7.887485311246215 and parameters: {'feature_pre_filter': False, 'lambda_l1': 4.644569438354624, 'lambda_l2': 3.729030013638639, 'num_leaves': 10, 'num_trees': 119, 'learning_rate': 0.0439507893086512, 'feature_fraction': 0.4597365476684607, 'min_data_in_leaf': 77}. Best is trial 2 with value: -7.85999568378677.\u001b[0m\n",
      "\u001b[32m[I 2021-08-10 10:18:45,266]\u001b[0m Trial 7 finished with value: -7.967907747853279 and parameters: {'feature_pre_filter': True, 'lambda_l1': 0.4293165699585483, 'lambda_l2': 3.51705436799911, 'num_leaves': 46, 'num_trees': 847, 'learning_rate': 0.13460664162424224, 'feature_fraction': 0.6918229818349195, 'min_data_in_leaf': 51}. Best is trial 2 with value: -7.85999568378677.\u001b[0m\n",
      "\u001b[32m[I 2021-08-10 10:19:06,279]\u001b[0m Trial 8 finished with value: -7.867760411249741 and parameters: {'feature_pre_filter': True, 'lambda_l1': 0.35784423917615105, 'lambda_l2': 0.7367210354924009, 'num_leaves': 40, 'num_trees': 770, 'learning_rate': 0.06496348810735916, 'feature_fraction': 0.395987073955485, 'min_data_in_leaf': 26}. Best is trial 2 with value: -7.85999568378677.\u001b[0m\n",
      "\u001b[32m[I 2021-08-10 10:19:32,853]\u001b[0m Trial 9 finished with value: -7.854982945253259 and parameters: {'feature_pre_filter': False, 'lambda_l1': 3.2158584327003292, 'lambda_l2': 4.840338973283825, 'num_leaves': 34, 'num_trees': 745, 'learning_rate': 0.041694835963280365, 'feature_fraction': 0.6947554376754566, 'min_data_in_leaf': 42}. Best is trial 9 with value: -7.854982945253259.\u001b[0m\n",
      "\u001b[32m[I 2021-08-10 10:20:00,570]\u001b[0m Trial 10 finished with value: -7.865956129467707 and parameters: {'feature_pre_filter': False, 'lambda_l1': 2.0019090503101094, 'lambda_l2': 4.846284559050454, 'num_leaves': 22, 'num_trees': 553, 'learning_rate': 0.013908466841816042, 'feature_fraction': 0.8487279455420149, 'min_data_in_leaf': 10}. Best is trial 9 with value: -7.854982945253259.\u001b[0m\n",
      "\u001b[32m[I 2021-08-10 10:20:16,746]\u001b[0m Trial 11 finished with value: -7.859323872780402 and parameters: {'feature_pre_filter': False, 'lambda_l1': 2.256533936734668, 'lambda_l2': 2.6171792166764343, 'num_leaves': 23, 'num_trees': 499, 'learning_rate': 0.0723258592014805, 'feature_fraction': 0.7374609008964779, 'min_data_in_leaf': 33}. Best is trial 9 with value: -7.854982945253259.\u001b[0m\n",
      "\u001b[32m[I 2021-08-10 10:20:33,312]\u001b[0m Trial 12 finished with value: -7.859806095284113 and parameters: {'feature_pre_filter': False, 'lambda_l1': 2.435157609651441, 'lambda_l2': 3.611710239787752, 'num_leaves': 19, 'num_trees': 568, 'learning_rate': 0.0796977690992331, 'feature_fraction': 0.762894429301029, 'min_data_in_leaf': 38}. Best is trial 9 with value: -7.854982945253259.\u001b[0m\n",
      "\u001b[32m[I 2021-08-10 10:20:51,946]\u001b[0m Trial 13 finished with value: -7.856954951476339 and parameters: {'feature_pre_filter': False, 'lambda_l1': 1.486742219920263, 'lambda_l2': 2.8573483547932867, 'num_leaves': 33, 'num_trees': 431, 'learning_rate': 0.05253334265785016, 'feature_fraction': 0.8025232806528078, 'min_data_in_leaf': 41}. Best is trial 9 with value: -7.854982945253259.\u001b[0m\n",
      "\u001b[32m[I 2021-08-10 10:21:30,879]\u001b[0m Trial 14 finished with value: -7.862956697312214 and parameters: {'feature_pre_filter': False, 'lambda_l1': 1.7036839414874374, 'lambda_l2': 4.342812027880435, 'num_leaves': 33, 'num_trees': 651, 'learning_rate': 0.011493165211370168, 'feature_fraction': 0.9657703161179365, 'min_data_in_leaf': 47}. Best is trial 9 with value: -7.854982945253259.\u001b[0m\n",
      "\u001b[32m[I 2021-08-10 10:22:09,403]\u001b[0m Trial 15 finished with value: -7.865258995328873 and parameters: {'feature_pre_filter': False, 'lambda_l1': 1.3139894221498565, 'lambda_l2': 2.753080766517793, 'num_leaves': 41, 'num_trees': 996, 'learning_rate': 0.04460559560419846, 'feature_fraction': 0.838436109424937, 'min_data_in_leaf': 15}. Best is trial 9 with value: -7.854982945253259.\u001b[0m\n",
      "\u001b[32m[I 2021-08-10 10:22:27,512]\u001b[0m Trial 16 finished with value: -7.945208676974331 and parameters: {'feature_pre_filter': False, 'lambda_l1': 3.0422923572060006, 'lambda_l2': 1.5006363550499553, 'num_leaves': 49, 'num_trees': 395, 'learning_rate': 0.15485786806501398, 'feature_fraction': 0.8376784464697138, 'min_data_in_leaf': 41}. Best is trial 9 with value: -7.854982945253259.\u001b[0m\n",
      "\u001b[32m[I 2021-08-10 10:22:43,795]\u001b[0m Trial 17 finished with value: -7.871572688007082 and parameters: {'feature_pre_filter': False, 'lambda_l1': 2.842823957236787, 'lambda_l2': 4.155064589215348, 'num_leaves': 38, 'num_trees': 430, 'learning_rate': 0.09375062834100319, 'feature_fraction': 0.6637218748512973, 'min_data_in_leaf': 65}. Best is trial 9 with value: -7.854982945253259.\u001b[0m\n",
      "\u001b[32m[I 2021-08-10 10:23:06,264]\u001b[0m Trial 18 finished with value: -7.859840591728216 and parameters: {'feature_pre_filter': True, 'lambda_l1': 1.2137624106960536, 'lambda_l2': 2.8682367653671603, 'num_leaves': 30, 'num_trees': 656, 'learning_rate': 0.0538018675830666, 'feature_fraction': 0.7695456403028842, 'min_data_in_leaf': 23}. Best is trial 9 with value: -7.854982945253259.\u001b[0m\n",
      "\u001b[32m[I 2021-08-10 10:23:15,013]\u001b[0m Trial 19 finished with value: -7.868180961088254 and parameters: {'feature_pre_filter': False, 'lambda_l1': 2.972195315295388, 'lambda_l2': 1.9213244545608565, 'num_leaves': 18, 'num_trees': 316, 'learning_rate': 0.025610738655257086, 'feature_fraction': 0.27980022911301405, 'min_data_in_leaf': 42}. Best is trial 9 with value: -7.854982945253259.\u001b[0m\n",
      "\u001b[32m[I 2021-08-10 10:23:41,262]\u001b[0m Trial 20 finished with value: -7.892483358378403 and parameters: {'feature_pre_filter': False, 'lambda_l1': 1.075387533357374, 'lambda_l2': 3.1183111645135577, 'num_leaves': 35, 'num_trees': 644, 'learning_rate': 0.09601358461658788, 'feature_fraction': 0.8895279121652073, 'min_data_in_leaf': 56}. Best is trial 9 with value: -7.854982945253259.\u001b[0m\n"
     ]
    },
    {
     "name": "stderr",
     "output_type": "stream",
     "text": [
      "\u001b[32m[I 2021-08-10 10:23:57,678]\u001b[0m Trial 21 finished with value: -7.859990392424638 and parameters: {'feature_pre_filter': False, 'lambda_l1': 2.1247282176266267, 'lambda_l2': 2.2887553601238007, 'num_leaves': 27, 'num_trees': 479, 'learning_rate': 0.06939182456594292, 'feature_fraction': 0.7382314542620826, 'min_data_in_leaf': 33}. Best is trial 9 with value: -7.854982945253259.\u001b[0m\n",
      "\u001b[32m[I 2021-08-10 10:24:13,402]\u001b[0m Trial 22 finished with value: -7.857097000026935 and parameters: {'feature_pre_filter': False, 'lambda_l1': 2.5171382901592523, 'lambda_l2': 3.331378628092181, 'num_leaves': 22, 'num_trees': 501, 'learning_rate': 0.059857894087878935, 'feature_fraction': 0.6922018607141965, 'min_data_in_leaf': 35}. Best is trial 9 with value: -7.854982945253259.\u001b[0m\n",
      "\u001b[32m[I 2021-08-10 10:24:24,069]\u001b[0m Trial 23 finished with value: -7.936456954792629 and parameters: {'feature_pre_filter': False, 'lambda_l1': 3.457831913330623, 'lambda_l2': 3.216548994639407, 'num_leaves': 44, 'num_trees': 253, 'learning_rate': 0.19674865891784452, 'feature_fraction': 0.6531006798960755, 'min_data_in_leaf': 19}. Best is trial 9 with value: -7.854982945253259.\u001b[0m\n",
      "\u001b[32m[I 2021-08-10 10:24:42,126]\u001b[0m Trial 24 finished with value: -7.855034806756014 and parameters: {'feature_pre_filter': False, 'lambda_l1': 1.7405915381426154, 'lambda_l2': 4.155417696590152, 'num_leaves': 30, 'num_trees': 594, 'learning_rate': 0.05379212576768322, 'feature_fraction': 0.5466065241806101, 'min_data_in_leaf': 46}. Best is trial 9 with value: -7.854982945253259.\u001b[0m\n",
      "\u001b[32m[I 2021-08-10 10:25:02,239]\u001b[0m Trial 25 finished with value: -7.852665257110355 and parameters: {'feature_pre_filter': False, 'lambda_l1': 1.5174040520252736, 'lambda_l2': 4.075280818368719, 'num_leaves': 31, 'num_trees': 605, 'learning_rate': 0.03227448470665932, 'feature_fraction': 0.5281526357801108, 'min_data_in_leaf': 47}. Best is trial 25 with value: -7.852665257110355.\u001b[0m\n",
      "\u001b[32m[I 2021-08-10 10:25:26,909]\u001b[0m Trial 26 finished with value: -7.853082003706351 and parameters: {'feature_pre_filter': True, 'lambda_l1': 0.9532038186333063, 'lambda_l2': 4.19003597889396, 'num_leaves': 29, 'num_trees': 706, 'learning_rate': 0.02424415030533217, 'feature_fraction': 0.509467876859699, 'min_data_in_leaf': 47}. Best is trial 25 with value: -7.852665257110355.\u001b[0m\n",
      "\u001b[32m[I 2021-08-10 10:25:49,626]\u001b[0m Trial 27 finished with value: -7.8513110657102425 and parameters: {'feature_pre_filter': True, 'lambda_l1': 0.8085193782739187, 'lambda_l2': 4.502877840736235, 'num_leaves': 37, 'num_trees': 728, 'learning_rate': 0.032844255789668646, 'feature_fraction': 0.36108928018143704, 'min_data_in_leaf': 62}. Best is trial 27 with value: -7.8513110657102425.\u001b[0m\n",
      "\u001b[32m[I 2021-08-10 10:26:13,274]\u001b[0m Trial 28 finished with value: -7.849229975346888 and parameters: {'feature_pre_filter': True, 'lambda_l1': 0.8938190850752753, 'lambda_l2': 4.442631403133681, 'num_leaves': 38, 'num_trees': 834, 'learning_rate': 0.02989256643935698, 'feature_fraction': 0.34259156145915204, 'min_data_in_leaf': 67}. Best is trial 28 with value: -7.849229975346888.\u001b[0m\n",
      "\u001b[32m[I 2021-08-10 10:26:33,888]\u001b[0m Trial 29 finished with value: -7.8484729610473165 and parameters: {'feature_pre_filter': True, 'lambda_l1': 0.9085597709311578, 'lambda_l2': 4.541884834655737, 'num_leaves': 38, 'num_trees': 859, 'learning_rate': 0.030070459754660182, 'feature_fraction': 0.20260007457545331, 'min_data_in_leaf': 96}. Best is trial 29 with value: -7.8484729610473165.\u001b[0m\n",
      "\u001b[32m[I 2021-08-10 10:27:01,508]\u001b[0m Trial 30 finished with value: -7.84786661597425 and parameters: {'feature_pre_filter': True, 'lambda_l1': 0.055658599028027056, 'lambda_l2': 4.586348791293097, 'num_leaves': 43, 'num_trees': 919, 'learning_rate': 0.024154727856295383, 'feature_fraction': 0.3433703652175755, 'min_data_in_leaf': 97}. Best is trial 30 with value: -7.84786661597425.\u001b[0m\n",
      "\u001b[32m[I 2021-08-10 10:27:26,319]\u001b[0m Trial 31 finished with value: -7.8462917069433304 and parameters: {'feature_pre_filter': True, 'lambda_l1': 0.7053898373564353, 'lambda_l2': 4.4063317137312294, 'num_leaves': 43, 'num_trees': 935, 'learning_rate': 0.022942371593501133, 'feature_fraction': 0.22233124288732053, 'min_data_in_leaf': 100}. Best is trial 31 with value: -7.8462917069433304.\u001b[0m\n",
      "\u001b[32m[I 2021-08-10 10:27:54,778]\u001b[0m Trial 32 finished with value: -7.847147945223344 and parameters: {'feature_pre_filter': True, 'lambda_l1': 0.010702261690573804, 'lambda_l2': 4.983573179381678, 'num_leaves': 44, 'num_trees': 990, 'learning_rate': 0.019945082342142016, 'feature_fraction': 0.21731305743003693, 'min_data_in_leaf': 99}. Best is trial 31 with value: -7.8462917069433304.\u001b[0m\n",
      "\u001b[32m[I 2021-08-10 10:28:26,469]\u001b[0m Trial 33 finished with value: -7.85197956761285 and parameters: {'feature_pre_filter': True, 'lambda_l1': 0.04935261565578966, 'lambda_l2': 4.889281348662846, 'num_leaves': 50, 'num_trees': 979, 'learning_rate': 0.012040786719013317, 'feature_fraction': 0.20327301400764844, 'min_data_in_leaf': 100}. Best is trial 31 with value: -7.8462917069433304.\u001b[0m\n",
      "\u001b[32m[I 2021-08-10 10:28:49,928]\u001b[0m Trial 34 finished with value: -7.84734597299023 and parameters: {'feature_pre_filter': True, 'lambda_l1': 0.04963153242815001, 'lambda_l2': 3.835369448867893, 'num_leaves': 44, 'num_trees': 910, 'learning_rate': 0.022135776810608212, 'feature_fraction': 0.20044995766657978, 'min_data_in_leaf': 95}. Best is trial 31 with value: -7.8462917069433304.\u001b[0m\n",
      "\u001b[32m[I 2021-08-10 10:29:19,079]\u001b[0m Trial 35 finished with value: -7.84724662776636 and parameters: {'feature_pre_filter': True, 'lambda_l1': 0.10976753412400828, 'lambda_l2': 3.7793215754337304, 'num_leaves': 44, 'num_trees': 931, 'learning_rate': 0.017681269579504496, 'feature_fraction': 0.2588699561568298, 'min_data_in_leaf': 91}. Best is trial 31 with value: -7.8462917069433304.\u001b[0m\n",
      "\u001b[32m[I 2021-08-10 10:29:47,978]\u001b[0m Trial 36 finished with value: -7.847623026252499 and parameters: {'feature_pre_filter': True, 'lambda_l1': 0.48909027545993194, 'lambda_l2': 4.992196726858941, 'num_leaves': 46, 'num_trees': 930, 'learning_rate': 0.018581648716059683, 'feature_fraction': 0.2656023160731341, 'min_data_in_leaf': 86}. Best is trial 31 with value: -7.8462917069433304.\u001b[0m\n",
      "\u001b[32m[I 2021-08-10 10:30:13,377]\u001b[0m Trial 37 finished with value: -7.85094696936552 and parameters: {'feature_pre_filter': True, 'lambda_l1': 0.2907846866560523, 'lambda_l2': 3.933587730073407, 'num_leaves': 47, 'num_trees': 956, 'learning_rate': 0.04057317997288591, 'feature_fraction': 0.26230740210868975, 'min_data_in_leaf': 91}. Best is trial 31 with value: -7.8462917069433304.\u001b[0m\n",
      "\u001b[32m[I 2021-08-10 10:30:35,892]\u001b[0m Trial 38 finished with value: -7.8836106087513285 and parameters: {'feature_pre_filter': True, 'lambda_l1': 0.6220818466434401, 'lambda_l2': 3.8622426093694058, 'num_leaves': 43, 'num_trees': 885, 'learning_rate': 0.08343626107855438, 'feature_fraction': 0.29957277474891864, 'min_data_in_leaf': 86}. Best is trial 31 with value: -7.8462917069433304.\u001b[0m\n",
      "\u001b[32m[I 2021-08-10 10:30:59,730]\u001b[0m Trial 39 finished with value: -7.85004629553255 and parameters: {'feature_pre_filter': True, 'lambda_l1': 0.014458259590443057, 'lambda_l2': 3.568751793639719, 'num_leaves': 41, 'num_trees': 800, 'learning_rate': 0.017117837755109718, 'feature_fraction': 0.23238351287360706, 'min_data_in_leaf': 83}. Best is trial 31 with value: -7.8462917069433304.\u001b[0m\n",
      "\u001b[32m[I 2021-08-10 10:31:27,832]\u001b[0m Trial 40 finished with value: -7.857011062377773 and parameters: {'feature_pre_filter': True, 'lambda_l1': 0.644026141097827, 'lambda_l2': 4.6560616929279375, 'num_leaves': 48, 'num_trees': 886, 'learning_rate': 0.04608886127165142, 'feature_fraction': 0.4081695861231494, 'min_data_in_leaf': 72}. Best is trial 31 with value: -7.8462917069433304.\u001b[0m\n",
      "\u001b[32m[I 2021-08-10 10:32:01,304]\u001b[0m Trial 41 finished with value: -7.847078073084177 and parameters: {'feature_pre_filter': True, 'lambda_l1': 0.4550001254694876, 'lambda_l2': 4.981728482884982, 'num_leaves': 46, 'num_trees': 939, 'learning_rate': 0.018488625756529396, 'feature_fraction': 0.3137627141050288, 'min_data_in_leaf': 90}. Best is trial 31 with value: -7.8462917069433304.\u001b[0m\n"
     ]
    },
    {
     "name": "stderr",
     "output_type": "stream",
     "text": [
      "\u001b[32m[I 2021-08-10 10:32:36,168]\u001b[0m Trial 42 finished with value: -7.852418320964034 and parameters: {'feature_pre_filter': True, 'lambda_l1': 0.25326521459946416, 'lambda_l2': 4.318798135312507, 'num_leaves': 45, 'num_trees': 951, 'learning_rate': 0.011098880463625078, 'feature_fraction': 0.32101701170355773, 'min_data_in_leaf': 92}. Best is trial 31 with value: -7.8462917069433304.\u001b[0m\n",
      "\u001b[32m[I 2021-08-10 10:32:56,729]\u001b[0m Trial 43 finished with value: -7.848618499958838 and parameters: {'feature_pre_filter': True, 'lambda_l1': 0.5614439696666467, 'lambda_l2': 4.993772204757525, 'num_leaves': 42, 'num_trees': 813, 'learning_rate': 0.03563020149385601, 'feature_fraction': 0.23694078502792226, 'min_data_in_leaf': 91}. Best is trial 31 with value: -7.8462917069433304.\u001b[0m\n",
      "\u001b[32m[I 2021-08-10 10:33:31,049]\u001b[0m Trial 44 finished with value: -7.846841179552794 and parameters: {'feature_pre_filter': True, 'lambda_l1': 0.30231064803922436, 'lambda_l2': 4.723372871225082, 'num_leaves': 45, 'num_trees': 998, 'learning_rate': 0.0243261735402676, 'feature_fraction': 0.3948348263840769, 'min_data_in_leaf': 100}. Best is trial 31 with value: -7.8462917069433304.\u001b[0m\n",
      "\u001b[32m[I 2021-08-10 10:34:06,071]\u001b[0m Trial 45 finished with value: -7.8526001382820505 and parameters: {'feature_pre_filter': True, 'lambda_l1': 0.34589958561740264, 'lambda_l2': 4.761779619867463, 'num_leaves': 50, 'num_trees': 999, 'learning_rate': 0.037984730735391437, 'feature_fraction': 0.46693070244604196, 'min_data_in_leaf': 100}. Best is trial 31 with value: -7.8462917069433304.\u001b[0m\n",
      "\u001b[32m[I 2021-08-10 10:34:32,547]\u001b[0m Trial 46 finished with value: -7.979353913195442 and parameters: {'feature_pre_filter': True, 'lambda_l1': 4.943867808384903, 'lambda_l2': 4.652456961539141, 'num_leaves': 47, 'num_trees': 953, 'learning_rate': 0.14323246696988948, 'feature_fraction': 0.4026616206478856, 'min_data_in_leaf': 87}. Best is trial 31 with value: -7.8462917069433304.\u001b[0m\n",
      "\u001b[32m[I 2021-08-10 10:34:52,172]\u001b[0m Trial 47 finished with value: -7.854314723233965 and parameters: {'feature_pre_filter': True, 'lambda_l1': 3.963709903915087, 'lambda_l2': 0.03544840506020108, 'num_leaves': 39, 'num_trees': 782, 'learning_rate': 0.04893166928218031, 'feature_fraction': 0.30786789783989454, 'min_data_in_leaf': 81}. Best is trial 31 with value: -7.8462917069433304.\u001b[0m\n",
      "\u001b[32m[I 2021-08-10 10:35:24,488]\u001b[0m Trial 48 finished with value: -7.850012515131621 and parameters: {'feature_pre_filter': True, 'lambda_l1': 0.7202924782519644, 'lambda_l2': 4.350087708059019, 'num_leaves': 46, 'num_trees': 863, 'learning_rate': 0.02301928816463156, 'feature_fraction': 0.4313340865335298, 'min_data_in_leaf': 77}. Best is trial 31 with value: -7.8462917069433304.\u001b[0m\n",
      "\u001b[32m[I 2021-08-10 10:35:47,482]\u001b[0m Trial 49 finished with value: -7.91819181391887 and parameters: {'feature_pre_filter': True, 'lambda_l1': 0.43383317206249505, 'lambda_l2': 4.779660154330854, 'num_leaves': 36, 'num_trees': 966, 'learning_rate': 0.1164236863011946, 'feature_fraction': 0.3589044232059714, 'min_data_in_leaf': 72}. Best is trial 31 with value: -7.8462917069433304.\u001b[0m\n",
      "\u001b[32m[I 2021-08-10 10:36:08,448]\u001b[0m Trial 50 finished with value: -7.860686378416847 and parameters: {'feature_pre_filter': True, 'lambda_l1': 1.1630960604371947, 'lambda_l2': 4.028553934915864, 'num_leaves': 40, 'num_trees': 920, 'learning_rate': 0.06188831316028212, 'feature_fraction': 0.23982819734313648, 'min_data_in_leaf': 93}. Best is trial 31 with value: -7.8462917069433304.\u001b[0m\n",
      "\u001b[32m[I 2021-08-10 10:36:31,927]\u001b[0m Trial 51 finished with value: -7.847496491916101 and parameters: {'feature_pre_filter': True, 'lambda_l1': 0.09525947874869266, 'lambda_l2': 3.7043499262838355, 'num_leaves': 44, 'num_trees': 898, 'learning_rate': 0.02147521466974172, 'feature_fraction': 0.2043404210608708, 'min_data_in_leaf': 95}. Best is trial 31 with value: -7.8462917069433304.\u001b[0m\n",
      "\u001b[32m[I 2021-08-10 10:36:57,458]\u001b[0m Trial 52 finished with value: -7.847879124994852 and parameters: {'feature_pre_filter': True, 'lambda_l1': 0.2630329040233171, 'lambda_l2': 3.8318040663493047, 'num_leaves': 48, 'num_trees': 833, 'learning_rate': 0.017959717315806763, 'feature_fraction': 0.2501428921999046, 'min_data_in_leaf': 89}. Best is trial 31 with value: -7.8462917069433304.\u001b[0m\n",
      "\u001b[32m[I 2021-08-10 10:37:30,910]\u001b[0m Trial 53 finished with value: -7.853727382188687 and parameters: {'feature_pre_filter': True, 'lambda_l1': 0.21615822061226575, 'lambda_l2': 4.344131214091429, 'num_leaves': 42, 'num_trees': 995, 'learning_rate': 0.010214241659123414, 'feature_fraction': 0.2867482963363731, 'min_data_in_leaf': 100}. Best is trial 31 with value: -7.8462917069433304.\u001b[0m\n",
      "\u001b[32m[I 2021-08-10 10:37:57,710]\u001b[0m Trial 54 finished with value: -7.851336218160086 and parameters: {'feature_pre_filter': True, 'lambda_l1': 0.49246291410717014, 'lambda_l2': 4.737939920674827, 'num_leaves': 45, 'num_trees': 930, 'learning_rate': 0.03748709975794798, 'feature_fraction': 0.31923676837395604, 'min_data_in_leaf': 96}. Best is trial 31 with value: -7.8462917069433304.\u001b[0m\n",
      "\u001b[32m[I 2021-08-10 10:38:15,094]\u001b[0m Trial 55 finished with value: -7.852939884115332 and parameters: {'feature_pre_filter': True, 'lambda_l1': 0.00494675935672495, 'lambda_l2': 3.392061337977449, 'num_leaves': 14, 'num_trees': 875, 'learning_rate': 0.025731961749955005, 'feature_fraction': 0.3685588107478308, 'min_data_in_leaf': 84}. Best is trial 31 with value: -7.8462917069433304.\u001b[0m\n",
      "\u001b[32m[I 2021-08-10 10:38:47,786]\u001b[0m Trial 56 finished with value: -7.855388958953516 and parameters: {'feature_pre_filter': True, 'lambda_l1': 0.7261070206258098, 'lambda_l2': 4.998822183939354, 'num_leaves': 41, 'num_trees': 911, 'learning_rate': 0.04236621218022987, 'feature_fraction': 0.6017180726287421, 'min_data_in_leaf': 89}. Best is trial 31 with value: -7.8462917069433304.\u001b[0m\n",
      "\u001b[32m[I 2021-08-10 10:38:58,283]\u001b[0m Trial 57 finished with value: -7.87880359677673 and parameters: {'feature_pre_filter': True, 'lambda_l1': 0.4088811106404613, 'lambda_l2': 4.554154191513057, 'num_leaves': 5, 'num_trees': 756, 'learning_rate': 0.01761175253161888, 'feature_fraction': 0.22892658720200315, 'min_data_in_leaf': 97}. Best is trial 31 with value: -7.8462917069433304.\u001b[0m\n",
      "\u001b[32m[I 2021-08-10 10:39:25,270]\u001b[0m Trial 58 finished with value: -7.849492731000905 and parameters: {'feature_pre_filter': True, 'lambda_l1': 1.0140602250621125, 'lambda_l2': 1.021838620992459, 'num_leaves': 44, 'num_trees': 956, 'learning_rate': 0.0300884439111374, 'feature_fraction': 0.2863936880380441, 'min_data_in_leaf': 93}. Best is trial 31 with value: -7.8462917069433304.\u001b[0m\n",
      "\u001b[32m[I 2021-08-10 10:39:48,410]\u001b[0m Trial 59 finished with value: -7.860328931795375 and parameters: {'feature_pre_filter': True, 'lambda_l1': 1.2953081003256055, 'lambda_l2': 4.210551459339611, 'num_leaves': 48, 'num_trees': 997, 'learning_rate': 0.05773746460761513, 'feature_fraction': 0.2647917116275146, 'min_data_in_leaf': 81}. Best is trial 31 with value: -7.8462917069433304.\u001b[0m\n",
      "\u001b[32m[I 2021-08-10 10:40:10,195]\u001b[0m Trial 60 finished with value: -7.856046754245784 and parameters: {'feature_pre_filter': True, 'lambda_l1': 0.23206956399027073, 'lambda_l2': 2.314265142149073, 'num_leaves': 40, 'num_trees': 840, 'learning_rate': 0.04967645855295366, 'feature_fraction': 0.3299636808321567, 'min_data_in_leaf': 98}. Best is trial 31 with value: -7.8462917069433304.\u001b[0m\n",
      "\u001b[32m[I 2021-08-10 10:40:34,051]\u001b[0m Trial 61 finished with value: -7.84805186698699 and parameters: {'feature_pre_filter': True, 'lambda_l1': 0.14295696584669149, 'lambda_l2': 3.723929103669165, 'num_leaves': 44, 'num_trees': 897, 'learning_rate': 0.02144732042169094, 'feature_fraction': 0.2045063535633893, 'min_data_in_leaf': 95}. Best is trial 31 with value: -7.8462917069433304.\u001b[0m\n",
      "\u001b[32m[I 2021-08-10 10:40:58,185]\u001b[0m Trial 62 finished with value: -7.847343414266452 and parameters: {'feature_pre_filter': True, 'lambda_l1': 0.17817127006805789, 'lambda_l2': 3.030184709432527, 'num_leaves': 45, 'num_trees': 936, 'learning_rate': 0.02914443187058966, 'feature_fraction': 0.22200764515947913, 'min_data_in_leaf': 94}. Best is trial 31 with value: -7.8462917069433304.\u001b[0m\n",
      "\u001b[32m[I 2021-08-10 10:41:23,257]\u001b[0m Trial 63 finished with value: -7.847646769268238 and parameters: {'feature_pre_filter': True, 'lambda_l1': 0.5018668762626761, 'lambda_l2': 2.9583727407831875, 'num_leaves': 49, 'num_trees': 938, 'learning_rate': 0.03029756447513255, 'feature_fraction': 0.22847834160532085, 'min_data_in_leaf': 89}. Best is trial 31 with value: -7.8462917069433304.\u001b[0m\n"
     ]
    },
    {
     "name": "stderr",
     "output_type": "stream",
     "text": [
      "\u001b[32m[I 2021-08-10 10:41:55,179]\u001b[0m Trial 64 finished with value: -7.8476391275242845 and parameters: {'feature_pre_filter': True, 'lambda_l1': 0.3419456921201233, 'lambda_l2': 3.4270751723993995, 'num_leaves': 46, 'num_trees': 969, 'learning_rate': 0.016287060688677295, 'feature_fraction': 0.2938707464912069, 'min_data_in_leaf': 94}. Best is trial 31 with value: -7.8462917069433304.\u001b[0m\n",
      "\u001b[32m[I 2021-08-10 10:42:22,430]\u001b[0m Trial 65 finished with value: -7.850741711588719 and parameters: {'feature_pre_filter': True, 'lambda_l1': 0.7968838695665004, 'lambda_l2': 2.6441178135645913, 'num_leaves': 43, 'num_trees': 862, 'learning_rate': 0.03595986977731077, 'feature_fraction': 0.38440563115154813, 'min_data_in_leaf': 100}. Best is trial 31 with value: -7.8462917069433304.\u001b[0m\n",
      "\u001b[32m[I 2021-08-10 10:42:41,989]\u001b[0m Trial 66 finished with value: -8.001021021398445 and parameters: {'feature_pre_filter': True, 'lambda_l1': 0.607610266299393, 'lambda_l2': 3.0169029599294013, 'num_leaves': 42, 'num_trees': 912, 'learning_rate': 0.17195927341992573, 'feature_fraction': 0.25547546584759934, 'min_data_in_leaf': 89}. Best is trial 31 with value: -7.8462917069433304.\u001b[0m\n",
      "\u001b[32m[I 2021-08-10 10:42:50,184]\u001b[0m Trial 67 finished with value: -7.8702916385983235 and parameters: {'feature_pre_filter': True, 'lambda_l1': 0.14546034143032377, 'lambda_l2': 3.9694621404282415, 'num_leaves': 45, 'num_trees': 199, 'learning_rate': 0.02792710266456155, 'feature_fraction': 0.23113047922187727, 'min_data_in_leaf': 84}. Best is trial 31 with value: -7.8462917069433304.\u001b[0m\n",
      "\u001b[32m[I 2021-08-10 10:43:16,701]\u001b[0m Trial 68 finished with value: -7.853392932652231 and parameters: {'feature_pre_filter': True, 'lambda_l1': 0.42913589307953026, 'lambda_l2': 4.424382939216955, 'num_leaves': 47, 'num_trees': 973, 'learning_rate': 0.04263822593424107, 'feature_fraction': 0.2740775196834989, 'min_data_in_leaf': 98}. Best is trial 31 with value: -7.8462917069433304.\u001b[0m\n",
      "\u001b[32m[I 2021-08-10 10:43:53,482]\u001b[0m Trial 69 finished with value: -7.849670796737418 and parameters: {'feature_pre_filter': True, 'lambda_l1': 0.0009213930496480005, 'lambda_l2': 2.068556346160264, 'num_leaves': 50, 'num_trees': 936, 'learning_rate': 0.012922927742623335, 'feature_fraction': 0.30713345124054475, 'min_data_in_leaf': 92}. Best is trial 31 with value: -7.8462917069433304.\u001b[0m\n",
      "\u001b[32m[I 2021-08-10 10:44:14,606]\u001b[0m Trial 70 finished with value: -7.848518620551765 and parameters: {'feature_pre_filter': True, 'lambda_l1': 1.5258483458065646, 'lambda_l2': 3.2394844903985813, 'num_leaves': 39, 'num_trees': 796, 'learning_rate': 0.024532750052805277, 'feature_fraction': 0.21778779858624572, 'min_data_in_leaf': 87}. Best is trial 31 with value: -7.8462917069433304.\u001b[0m\n",
      "\u001b[32m[I 2021-08-10 10:44:39,275]\u001b[0m Trial 71 finished with value: -7.848331042711448 and parameters: {'feature_pre_filter': True, 'lambda_l1': 0.1654266332375594, 'lambda_l2': 3.7002218435315553, 'num_leaves': 44, 'num_trees': 894, 'learning_rate': 0.018707135442768308, 'feature_fraction': 0.2005505857632829, 'min_data_in_leaf': 95}. Best is trial 31 with value: -7.8462917069433304.\u001b[0m\n",
      "\u001b[32m[I 2021-08-10 10:45:06,168]\u001b[0m Trial 72 finished with value: -7.8469620964620335 and parameters: {'feature_pre_filter': True, 'lambda_l1': 0.18542559275564366, 'lambda_l2': 3.5033600428937857, 'num_leaves': 45, 'num_trees': 898, 'learning_rate': 0.022244552517624885, 'feature_fraction': 0.25253244956530524, 'min_data_in_leaf': 97}. Best is trial 31 with value: -7.8462917069433304.\u001b[0m\n",
      "\u001b[32m[I 2021-08-10 10:45:34,249]\u001b[0m Trial 73 finished with value: -7.849975105468256 and parameters: {'feature_pre_filter': True, 'lambda_l1': 0.31748970168861157, 'lambda_l2': 3.514382492458324, 'num_leaves': 48, 'num_trees': 981, 'learning_rate': 0.03295663100867053, 'feature_fraction': 0.2542072512601554, 'min_data_in_leaf': 98}. Best is trial 31 with value: -7.8462917069433304.\u001b[0m\n",
      "\u001b[32m[I 2021-08-10 10:46:00,069]\u001b[0m Trial 74 finished with value: -7.847157890537157 and parameters: {'feature_pre_filter': True, 'lambda_l1': 0.7919658211653575, 'lambda_l2': 4.874255686779196, 'num_leaves': 46, 'num_trees': 823, 'learning_rate': 0.027239539688492742, 'feature_fraction': 0.338232070610915, 'min_data_in_leaf': 91}. Best is trial 31 with value: -7.8462917069433304.\u001b[0m\n",
      "\u001b[32m[I 2021-08-10 10:46:37,543]\u001b[0m Trial 75 finished with value: -7.856027286095336 and parameters: {'feature_pre_filter': True, 'lambda_l1': 0.8391651391580234, 'lambda_l2': 4.708629321523214, 'num_leaves': 46, 'num_trees': 818, 'learning_rate': 0.010026947981620122, 'feature_fraction': 0.435145489628591, 'min_data_in_leaf': 91}. Best is trial 31 with value: -7.8462917069433304.\u001b[0m\n",
      "\u001b[32m[I 2021-08-10 10:47:05,029]\u001b[0m Trial 76 finished with value: -7.848814671877222 and parameters: {'feature_pre_filter': True, 'lambda_l1': 1.0853508895522646, 'lambda_l2': 4.863331713164863, 'num_leaves': 42, 'num_trees': 849, 'learning_rate': 0.026858691096742965, 'feature_fraction': 0.3381950548115073, 'min_data_in_leaf': 80}. Best is trial 31 with value: -7.8462917069433304.\u001b[0m\n",
      "\u001b[32m[I 2021-08-10 10:47:41,201]\u001b[0m Trial 77 finished with value: -7.854469924797861 and parameters: {'feature_pre_filter': True, 'lambda_l1': 0.5299188081923187, 'lambda_l2': 4.8353079267556405, 'num_leaves': 49, 'num_trees': 939, 'learning_rate': 0.03767605966698183, 'feature_fraction': 0.5035640577029757, 'min_data_in_leaf': 53}. Best is trial 31 with value: -7.8462917069433304.\u001b[0m\n",
      "\u001b[32m[I 2021-08-10 10:48:03,643]\u001b[0m Trial 78 finished with value: -7.852665744089897 and parameters: {'feature_pre_filter': True, 'lambda_l1': 0.7063483901130748, 'lambda_l2': 4.51766815606697, 'num_leaves': 47, 'num_trees': 710, 'learning_rate': 0.04688126151844951, 'feature_fraction': 0.3770122206881349, 'min_data_in_leaf': 100}. Best is trial 31 with value: -7.8462917069433304.\u001b[0m\n",
      "\u001b[32m[I 2021-08-10 10:48:26,954]\u001b[0m Trial 79 finished with value: -7.853319416061363 and parameters: {'feature_pre_filter': True, 'lambda_l1': 1.9622462761479598, 'lambda_l2': 4.149261728976447, 'num_leaves': 26, 'num_trees': 880, 'learning_rate': 0.014458946967810063, 'feature_fraction': 0.2786913613872067, 'min_data_in_leaf': 90}. Best is trial 31 with value: -7.8462917069433304.\u001b[0m\n",
      "\u001b[32m[I 2021-08-10 10:48:53,157]\u001b[0m Trial 80 finished with value: -7.848565693853608 and parameters: {'feature_pre_filter': True, 'lambda_l1': 0.34510648990077464, 'lambda_l2': 4.2709168832279385, 'num_leaves': 41, 'num_trees': 964, 'learning_rate': 0.0328190565576234, 'feature_fraction': 0.31561966421264787, 'min_data_in_leaf': 86}. Best is trial 31 with value: -7.8462917069433304.\u001b[0m\n",
      "\u001b[32m[I 2021-08-10 10:49:19,912]\u001b[0m Trial 81 finished with value: -7.847305334488975 and parameters: {'feature_pre_filter': True, 'lambda_l1': 0.15929464012832226, 'lambda_l2': 4.874498371047904, 'num_leaves': 43, 'num_trees': 911, 'learning_rate': 0.02162676568995204, 'feature_fraction': 0.2500785133211421, 'min_data_in_leaf': 94}. Best is trial 31 with value: -7.8462917069433304.\u001b[0m\n",
      "\u001b[32m[I 2021-08-10 10:49:47,612]\u001b[0m Trial 82 finished with value: -7.846973449701717 and parameters: {'feature_pre_filter': True, 'lambda_l1': 0.6294713457278079, 'lambda_l2': 4.909096523925559, 'num_leaves': 43, 'num_trees': 931, 'learning_rate': 0.021496236337600956, 'feature_fraction': 0.25237216953014197, 'min_data_in_leaf': 93}. Best is trial 31 with value: -7.8462917069433304.\u001b[0m\n",
      "\u001b[32m[I 2021-08-10 10:50:22,768]\u001b[0m Trial 83 finished with value: -7.848602323723925 and parameters: {'feature_pre_filter': True, 'lambda_l1': 0.9430414475714167, 'lambda_l2': 4.898748539580963, 'num_leaves': 43, 'num_trees': 978, 'learning_rate': 0.016173189052180386, 'feature_fraction': 0.3461119572675782, 'min_data_in_leaf': 97}. Best is trial 31 with value: -7.8462917069433304.\u001b[0m\n",
      "\u001b[32m[I 2021-08-10 10:50:46,144]\u001b[0m Trial 84 finished with value: -7.848665477264298 and parameters: {'feature_pre_filter': True, 'lambda_l1': 0.6192578025211379, 'lambda_l2': 4.647907374117155, 'num_leaves': 37, 'num_trees': 875, 'learning_rate': 0.021564639491636003, 'feature_fraction': 0.2495905364198732, 'min_data_in_leaf': 93}. Best is trial 31 with value: -7.8462917069433304.\u001b[0m\n"
     ]
    },
    {
     "name": "stderr",
     "output_type": "stream",
     "text": [
      "\u001b[32m[I 2021-08-10 10:51:14,333]\u001b[0m Trial 85 finished with value: -7.847152810787644 and parameters: {'feature_pre_filter': True, 'lambda_l1': 0.7613445989468319, 'lambda_l2': 4.915185464586775, 'num_leaves': 40, 'num_trees': 916, 'learning_rate': 0.020720590552754065, 'feature_fraction': 0.2989728126704623, 'min_data_in_leaf': 98}. Best is trial 31 with value: -7.8462917069433304.\u001b[0m\n",
      "\u001b[32m[I 2021-08-10 10:51:36,902]\u001b[0m Trial 86 finished with value: -7.898839707040577 and parameters: {'feature_pre_filter': True, 'lambda_l1': 0.8357774898735264, 'lambda_l2': 4.4142622410446855, 'num_leaves': 40, 'num_trees': 1000, 'learning_rate': 0.09906629175981783, 'feature_fraction': 0.29110643144832193, 'min_data_in_leaf': 98}. Best is trial 31 with value: -7.8462917069433304.\u001b[0m\n",
      "\u001b[32m[I 2021-08-10 10:51:57,744]\u001b[0m Trial 87 finished with value: -7.849951861120741 and parameters: {'feature_pre_filter': True, 'lambda_l1': 2.529041122815528, 'lambda_l2': 4.609593439939455, 'num_leaves': 34, 'num_trees': 675, 'learning_rate': 0.025925385961826072, 'feature_fraction': 0.3077706868655993, 'min_data_in_leaf': 87}. Best is trial 31 with value: -7.8462917069433304.\u001b[0m\n",
      "\u001b[32m[I 2021-08-10 10:52:28,135]\u001b[0m Trial 88 finished with value: -7.851209212038074 and parameters: {'feature_pre_filter': True, 'lambda_l1': 1.3819899141206133, 'lambda_l2': 4.752771119566965, 'num_leaves': 39, 'num_trees': 949, 'learning_rate': 0.039538937258662504, 'feature_fraction': 0.42333047419324443, 'min_data_in_leaf': 83}. Best is trial 31 with value: -7.8462917069433304.\u001b[0m\n",
      "\u001b[32m[I 2021-08-10 10:52:52,888]\u001b[0m Trial 89 finished with value: -7.876716106065925 and parameters: {'feature_pre_filter': False, 'lambda_l1': 0.7263610114954947, 'lambda_l2': 4.9808173756460725, 'num_leaves': 46, 'num_trees': 854, 'learning_rate': 0.07291872376191097, 'feature_fraction': 0.3485311964712771, 'min_data_in_leaf': 78}. Best is trial 31 with value: -7.8462917069433304.\u001b[0m\n",
      "\u001b[32m[I 2021-08-10 10:53:23,334]\u001b[0m Trial 90 finished with value: -7.850196670282159 and parameters: {'feature_pre_filter': True, 'lambda_l1': 1.1238507348762732, 'lambda_l2': 4.496423221642405, 'num_leaves': 42, 'num_trees': 918, 'learning_rate': 0.014016674844673673, 'feature_fraction': 0.271250998888899, 'min_data_in_leaf': 75}. Best is trial 31 with value: -7.8462917069433304.\u001b[0m\n",
      "\u001b[32m[I 2021-08-10 10:53:49,970]\u001b[0m Trial 91 finished with value: -7.847146363549996 and parameters: {'feature_pre_filter': True, 'lambda_l1': 0.40782881230336, 'lambda_l2': 4.877689378689852, 'num_leaves': 45, 'num_trees': 891, 'learning_rate': 0.023041891049000562, 'feature_fraction': 0.24667993849471145, 'min_data_in_leaf': 96}. Best is trial 31 with value: -7.8462917069433304.\u001b[0m\n",
      "\u001b[32m[I 2021-08-10 10:54:14,432]\u001b[0m Trial 92 finished with value: -7.8496565616991205 and parameters: {'feature_pre_filter': True, 'lambda_l1': 0.37475059385280873, 'lambda_l2': 4.722578243994153, 'num_leaves': 45, 'num_trees': 895, 'learning_rate': 0.03405202945352863, 'feature_fraction': 0.2961554648174145, 'min_data_in_leaf': 97}. Best is trial 31 with value: -7.8462917069433304.\u001b[0m\n",
      "\u001b[32m[I 2021-08-10 10:54:48,611]\u001b[0m Trial 93 finished with value: -7.846934344376044 and parameters: {'feature_pre_filter': True, 'lambda_l1': 0.5524539635879944, 'lambda_l2': 4.876958989120436, 'num_leaves': 49, 'num_trees': 974, 'learning_rate': 0.020071914369259963, 'feature_fraction': 0.33103320429019284, 'min_data_in_leaf': 91}. Best is trial 31 with value: -7.8462917069433304.\u001b[0m\n",
      "\u001b[32m[I 2021-08-10 10:55:17,601]\u001b[0m Trial 94 finished with value: -7.848082265807601 and parameters: {'feature_pre_filter': True, 'lambda_l1': 0.5451656580457559, 'lambda_l2': 4.876099225235644, 'num_leaves': 49, 'num_trees': 825, 'learning_rate': 0.02107293665690446, 'feature_fraction': 0.32707856668950364, 'min_data_in_leaf': 99}. Best is trial 31 with value: -7.8462917069433304.\u001b[0m\n",
      "\u001b[32m[I 2021-08-10 10:55:50,595]\u001b[0m Trial 95 finished with value: -7.84881029601823 and parameters: {'feature_pre_filter': True, 'lambda_l1': 0.9094846731865364, 'lambda_l2': 4.938026155740822, 'num_leaves': 47, 'num_trees': 983, 'learning_rate': 0.027494722871501738, 'feature_fraction': 0.3966876463525882, 'min_data_in_leaf': 59}. Best is trial 31 with value: -7.8462917069433304.\u001b[0m\n",
      "\u001b[32m[I 2021-08-10 10:56:07,406]\u001b[0m Trial 96 finished with value: -7.879280485460828 and parameters: {'feature_pre_filter': True, 'lambda_l1': 1.026745339185437, 'lambda_l2': 4.619623746145399, 'num_leaves': 50, 'num_trees': 349, 'learning_rate': 0.010182011402682987, 'feature_fraction': 0.36029312038231376, 'min_data_in_leaf': 96}. Best is trial 31 with value: -7.8462917069433304.\u001b[0m\n",
      "\u001b[32m[I 2021-08-10 10:56:35,984]\u001b[0m Trial 97 finished with value: -7.850451035079768 and parameters: {'feature_pre_filter': True, 'lambda_l1': 0.6745188884114385, 'lambda_l2': 4.775527579118491, 'num_leaves': 48, 'num_trees': 952, 'learning_rate': 0.01452973930467588, 'feature_fraction': 0.2200375246393438, 'min_data_in_leaf': 92}. Best is trial 31 with value: -7.8462917069433304.\u001b[0m\n",
      "\u001b[32m[I 2021-08-10 10:57:07,027]\u001b[0m Trial 98 finished with value: -7.957537637468132 and parameters: {'feature_pre_filter': True, 'lambda_l1': 4.371447318688048, 'lambda_l2': 4.810457577897928, 'num_leaves': 46, 'num_trees': 864, 'learning_rate': 0.13217820354921198, 'feature_fraction': 0.5712517898962923, 'min_data_in_leaf': 88}. Best is trial 31 with value: -7.8462917069433304.\u001b[0m\n",
      "\u001b[32m[I 2021-08-10 10:57:31,507]\u001b[0m Trial 99 finished with value: -7.84883003214 and parameters: {'feature_pre_filter': True, 'lambda_l1': 3.461369295490635, 'lambda_l2': 4.433195051193345, 'num_leaves': 45, 'num_trees': 778, 'learning_rate': 0.01875495564252076, 'feature_fraction': 0.2765742088841687, 'min_data_in_leaf': 100}. Best is trial 31 with value: -7.8462917069433304.\u001b[0m\n"
     ]
    },
    {
     "name": "stdout",
     "output_type": "stream",
     "text": [
      "FrozenTrial(number=31, values=[-7.8462917069433304], datetime_start=datetime.datetime(2021, 8, 10, 10, 27, 1, 509400), datetime_complete=datetime.datetime(2021, 8, 10, 10, 27, 26, 319447), params={'feature_pre_filter': True, 'lambda_l1': 0.7053898373564353, 'lambda_l2': 4.4063317137312294, 'num_leaves': 43, 'num_trees': 935, 'learning_rate': 0.022942371593501133, 'feature_fraction': 0.22233124288732053, 'min_data_in_leaf': 100}, distributions={'feature_pre_filter': CategoricalDistribution(choices=(True, False)), 'lambda_l1': UniformDistribution(high=5.0, low=0.0), 'lambda_l2': UniformDistribution(high=5.0, low=0.0), 'num_leaves': IntUniformDistribution(high=50, low=5, step=1), 'num_trees': IntUniformDistribution(high=1000, low=100, step=1), 'learning_rate': UniformDistribution(high=0.2, low=0.01), 'feature_fraction': UniformDistribution(high=1.0, low=0.2), 'min_data_in_leaf': IntUniformDistribution(high=100, low=10, step=1)}, user_attrs={}, system_attrs={}, intermediate_values={}, trial_id=31, state=TrialState.COMPLETE, value=None)\n"
     ]
    }
   ],
   "source": [
    "study = optuna.create_study(direction=\"maximize\")\n",
    "study.optimize(objective_lgbm, n_trials=100)\n",
    "print(study.best_trial)"
   ]
  },
  {
   "cell_type": "code",
   "execution_count": 35,
   "metadata": {},
   "outputs": [
    {
     "data": {
      "text/plain": [
       "{'feature_pre_filter': True,\n",
       " 'lambda_l1': 0.7053898373564353,\n",
       " 'lambda_l2': 4.4063317137312294,\n",
       " 'num_leaves': 43,\n",
       " 'num_trees': 935,\n",
       " 'learning_rate': 0.022942371593501133,\n",
       " 'feature_fraction': 0.22233124288732053,\n",
       " 'min_data_in_leaf': 100}"
      ]
     },
     "execution_count": 35,
     "metadata": {},
     "output_type": "execute_result"
    }
   ],
   "source": [
    "study.best_params"
   ]
  },
  {
   "cell_type": "code",
   "execution_count": 39,
   "metadata": {
    "scrolled": true
   },
   "outputs": [
    {
     "name": "stderr",
     "output_type": "stream",
     "text": [
      "[Parallel(n_jobs=-1)]: Using backend LokyBackend with 8 concurrent workers.\n",
      "[Parallel(n_jobs=-1)]: Done   2 out of   5 | elapsed:   50.0s remaining:  1.3min\n",
      "[Parallel(n_jobs=-1)]: Done   3 out of   5 | elapsed:   52.7s remaining:   35.1s\n",
      "[Parallel(n_jobs=-1)]: Done   5 out of   5 | elapsed:   55.9s remaining:    0.0s\n",
      "[Parallel(n_jobs=-1)]: Done   5 out of   5 | elapsed:   55.9s finished\n"
     ]
    },
    {
     "name": "stdout",
     "output_type": "stream",
     "text": [
      "-7.845282244267366\n"
     ]
    }
   ],
   "source": [
    "best_params = {\n",
    "    'objective': 'rmse',\n",
    "    'metric': 'rmse',\n",
    "    'num_threads': 4,\n",
    "    'lambda_l1': 0.7,\n",
    "    'lambda_l2': 4.4,\n",
    "    'num_leaves': 43,\n",
    "    'num_trees': 1000,\n",
    "    'learning_rate': 0.02,\n",
    "    'feature_fraction': 0.25,\n",
    "    'min_data_in_leaf': 100\n",
    "}\n",
    "\n",
    "lgb = gradient_boost(lgbm.LGBMRegressor(**best_params))"
   ]
  },
  {
   "cell_type": "code",
   "execution_count": 11,
   "metadata": {},
   "outputs": [],
   "source": [
    "# def objective_cb(trial):\n",
    "#     params = {\n",
    "#         'silent': True,\n",
    "#         'iterations': trial.suggest_int('iterations', 100, 300),\n",
    "#         'learning_rate': trial.suggest_float('learning_rate', 0.07, 0.13),\n",
    "#         'depth': trial.suggest_int('depth', 2, 8),\n",
    "#         'l2_leaf_reg': trial.suggest_int('l2_leaf_reg', 2, 10),\n",
    "#         'random_strength': trial.suggest_int('random_strength', 1, 3),\n",
    "#     }\n",
    "    \n",
    "#     cat = cb.CatBoostRegressor(**params)\n",
    "    \n",
    "#     score = cross_val_score(cat, X, y, scoring='neg_root_mean_squared_error', n_jobs=-1, cv=3)\n",
    "#     rmse = score.mean()\n",
    "#     return rmse"
   ]
  },
  {
   "cell_type": "code",
   "execution_count": 12,
   "metadata": {},
   "outputs": [],
   "source": [
    "# study = optuna.create_study(direction=\"maximize\")\n",
    "# study.optimize(objective_cb, n_trials=100)\n",
    "# print(study.best_trial)"
   ]
  },
  {
   "cell_type": "code",
   "execution_count": 23,
   "metadata": {},
   "outputs": [
    {
     "name": "stdout",
     "output_type": "stream",
     "text": [
      "-7.8555571200449945\n"
     ]
    }
   ],
   "source": [
    "# params = {\n",
    "#     'learning_rate': 0.11,\n",
    "#     'depth': 6,\n",
    "#     'l2_leaf_reg': 8,\n",
    "# }\n",
    "\n",
    "# cat = gradient_boost(cb.CatBoostRegressor(silent=True))"
   ]
  },
  {
   "cell_type": "code",
   "execution_count": 46,
   "metadata": {},
   "outputs": [
    {
     "data": {
      "text/plain": [
       "<lightgbm.basic.Booster at 0x7fb1a461aa90>"
      ]
     },
     "execution_count": 46,
     "metadata": {},
     "output_type": "execute_result"
    }
   ],
   "source": [
    "lgb.booster_.save_model('../lgb.txt')"
   ]
  }
 ],
 "metadata": {
  "kernelspec": {
   "display_name": "Python 3",
   "language": "python",
   "name": "python3"
  },
  "language_info": {
   "codemirror_mode": {
    "name": "ipython",
    "version": 3
   },
   "file_extension": ".py",
   "mimetype": "text/x-python",
   "name": "python",
   "nbconvert_exporter": "python",
   "pygments_lexer": "ipython3",
   "version": "3.7.6"
  }
 },
 "nbformat": 4,
 "nbformat_minor": 4
}
