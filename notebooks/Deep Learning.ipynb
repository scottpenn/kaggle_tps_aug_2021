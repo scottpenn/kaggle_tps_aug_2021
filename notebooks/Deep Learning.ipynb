{
 "cells": [
  {
   "cell_type": "code",
   "execution_count": 1,
   "metadata": {},
   "outputs": [],
   "source": [
    "import numpy as np\n",
    "import pandas as pd\n",
    "import matplotlib.pyplot as plt"
   ]
  },
  {
   "cell_type": "code",
   "execution_count": 12,
   "metadata": {},
   "outputs": [],
   "source": [
    "from sklearn.model_selection import train_test_split\n",
    "from sklearn.preprocessing import StandardScaler\n",
    "from sklearn.metrics import mean_squared_error"
   ]
  },
  {
   "cell_type": "code",
   "execution_count": 3,
   "metadata": {},
   "outputs": [],
   "source": [
    "from keras.models import Sequential\n",
    "from keras.layers import Dense, Activation, Dropout\n",
    "from keras.metrics import RootMeanSquaredError\n",
    "from keras.callbacks import EarlyStopping\n",
    "from keras.callbacks import ModelCheckpoint\n",
    "from keras.models import load_model"
   ]
  },
  {
   "cell_type": "code",
   "execution_count": 4,
   "metadata": {},
   "outputs": [],
   "source": [
    "train = pd.read_csv('../data/tabular-playground-series-aug-2021/train.csv', index_col='id')\n",
    "test = pd.read_csv('../data/tabular-playground-series-aug-2021/test.csv', index_col='id')"
   ]
  },
  {
   "cell_type": "code",
   "execution_count": 5,
   "metadata": {},
   "outputs": [],
   "source": [
    "features = train.columns.values[:-1]\n",
    "target = train.columns.values[-1]\n",
    "\n",
    "X, y = train[features], train[target]\n",
    "X_train, X_test, y_train, y_test = train_test_split(X, y, test_size=0.2, random_state=4, shuffle=True)"
   ]
  },
  {
   "cell_type": "code",
   "execution_count": 6,
   "metadata": {},
   "outputs": [],
   "source": [
    "scaler = StandardScaler()\n",
    "X_train_scaled = scaler.fit_transform(X_train)\n",
    "X_test_scaled = scaler.transform(X_test)"
   ]
  },
  {
   "cell_type": "code",
   "execution_count": 7,
   "metadata": {},
   "outputs": [],
   "source": [
    "model = Sequential()\n",
    "\n",
    "model.add(Dense(32, activation='relu', input_dim=X_train_scaled.shape[1]))\n",
    "model.add(Dropout(0.2))\n",
    "model.add(Dense(16, activation='relu'))\n",
    "model.add(Dropout(0.2))\n",
    "model.add(Dense(8, activation='relu'))\n",
    "model.add(Dropout(0.2))\n",
    "model.add(Dense(1))"
   ]
  },
  {
   "cell_type": "code",
   "execution_count": 8,
   "metadata": {},
   "outputs": [],
   "source": [
    "model.compile(optimizer='adam', loss='mean_squared_error', metrics=[RootMeanSquaredError()])"
   ]
  },
  {
   "cell_type": "code",
   "execution_count": 9,
   "metadata": {
    "scrolled": true
   },
   "outputs": [
    {
     "name": "stdout",
     "output_type": "stream",
     "text": [
      "Epoch 1/20\n",
      "1563/1563 [==============================] - 2s 1ms/step - loss: 69.0858 - root_mean_squared_error: 8.3118 - val_loss: 62.8823 - val_root_mean_squared_error: 7.9298\n",
      "Epoch 2/20\n",
      "1563/1563 [==============================] - 1s 941us/step - loss: 64.9380 - root_mean_squared_error: 8.0584 - val_loss: 62.9474 - val_root_mean_squared_error: 7.9339\n",
      "Epoch 3/20\n",
      "1563/1563 [==============================] - 2s 1ms/step - loss: 63.9372 - root_mean_squared_error: 7.9961 - val_loss: 62.8938 - val_root_mean_squared_error: 7.9306\n",
      "Epoch 4/20\n",
      "1563/1563 [==============================] - 2s 980us/step - loss: 63.4572 - root_mean_squared_error: 7.9660 - val_loss: 62.7291 - val_root_mean_squared_error: 7.9202\n",
      "Epoch 5/20\n",
      "1563/1563 [==============================] - 2s 962us/step - loss: 63.0926 - root_mean_squared_error: 7.9431 - val_loss: 62.5907 - val_root_mean_squared_error: 7.9114\n",
      "Epoch 6/20\n",
      "1563/1563 [==============================] - 2s 961us/step - loss: 63.0258 - root_mean_squared_error: 7.9389 - val_loss: 62.4855 - val_root_mean_squared_error: 7.9048\n",
      "Epoch 7/20\n",
      "1563/1563 [==============================] - 2s 991us/step - loss: 62.7546 - root_mean_squared_error: 7.9218 - val_loss: 62.5326 - val_root_mean_squared_error: 7.9078\n",
      "Epoch 8/20\n",
      "1563/1563 [==============================] - 2s 1ms/step - loss: 62.5598 - root_mean_squared_error: 7.9095 - val_loss: 62.5000 - val_root_mean_squared_error: 7.9057\n",
      "Epoch 9/20\n",
      "1563/1563 [==============================] - 2s 1ms/step - loss: 62.4504 - root_mean_squared_error: 7.9026 - val_loss: 62.6172 - val_root_mean_squared_error: 7.9131\n",
      "Epoch 10/20\n",
      "1563/1563 [==============================] - 2s 1ms/step - loss: 62.4121 - root_mean_squared_error: 7.9001 - val_loss: 62.5059 - val_root_mean_squared_error: 7.9061\n",
      "Epoch 11/20\n",
      "1563/1563 [==============================] - 2s 1ms/step - loss: 62.2799 - root_mean_squared_error: 7.8918 - val_loss: 62.5541 - val_root_mean_squared_error: 7.9091\n",
      "Epoch 12/20\n",
      "1563/1563 [==============================] - 2s 999us/step - loss: 62.2063 - root_mean_squared_error: 7.8871 - val_loss: 62.5717 - val_root_mean_squared_error: 7.9102\n",
      "Epoch 13/20\n",
      "1563/1563 [==============================] - 2s 1ms/step - loss: 62.1189 - root_mean_squared_error: 7.8816 - val_loss: 62.5939 - val_root_mean_squared_error: 7.9116\n",
      "Epoch 14/20\n",
      "1563/1563 [==============================] - 2s 997us/step - loss: 62.0874 - root_mean_squared_error: 7.8796 - val_loss: 62.5679 - val_root_mean_squared_error: 7.9100\n",
      "Epoch 15/20\n",
      "1563/1563 [==============================] - 2s 1ms/step - loss: 62.0511 - root_mean_squared_error: 7.8773 - val_loss: 62.5464 - val_root_mean_squared_error: 7.9086\n",
      "Epoch 16/20\n",
      "1563/1563 [==============================] - 2s 981us/step - loss: 61.9408 - root_mean_squared_error: 7.8702 - val_loss: 62.5704 - val_root_mean_squared_error: 7.9101\n",
      "Epoch 17/20\n",
      "1563/1563 [==============================] - 2s 995us/step - loss: 61.9372 - root_mean_squared_error: 7.8700 - val_loss: 62.5686 - val_root_mean_squared_error: 7.9100\n",
      "Epoch 18/20\n",
      "1563/1563 [==============================] - 2s 980us/step - loss: 61.9199 - root_mean_squared_error: 7.8689 - val_loss: 62.5672 - val_root_mean_squared_error: 7.9099\n",
      "Epoch 19/20\n",
      "1563/1563 [==============================] - 2s 1ms/step - loss: 61.8940 - root_mean_squared_error: 7.8673 - val_loss: 62.5877 - val_root_mean_squared_error: 7.9112\n",
      "Epoch 20/20\n",
      "1563/1563 [==============================] - 2s 998us/step - loss: 61.8431 - root_mean_squared_error: 7.8640 - val_loss: 62.6040 - val_root_mean_squared_error: 7.9123\n"
     ]
    }
   ],
   "source": [
    "es = EarlyStopping(monitor='val_loss', patience=20)\n",
    "mc = ModelCheckpoint('../best_model.h5', monitor='val_loss', save_best_only=True)\n",
    "\n",
    "history = model.fit(X_train_scaled, y_train, \n",
    "          epochs=20, \n",
    "          callbacks= [es, mc], \n",
    "          batch_size=128, \n",
    "          validation_data=(X_test_scaled, y_test), \n",
    "          shuffle=True)"
   ]
  },
  {
   "cell_type": "code",
   "execution_count": 10,
   "metadata": {},
   "outputs": [],
   "source": [
    "best_model = load_model('../best_model.h5')"
   ]
  },
  {
   "cell_type": "code",
   "execution_count": 11,
   "metadata": {},
   "outputs": [
    {
     "data": {
      "text/plain": [
       "(array([1.4209e+04, 2.0963e+04, 1.0743e+04, 3.1850e+03, 7.1000e+02,\n",
       "        1.4200e+02, 3.4000e+01, 8.0000e+00, 4.0000e+00, 2.0000e+00]),\n",
       " array([ 5.290784 ,  6.1924686,  7.0941534,  7.995838 ,  8.897523 ,\n",
       "         9.799208 , 10.700892 , 11.602577 , 12.504262 , 13.405947 ,\n",
       "        14.3076315], dtype=float32),\n",
       " <a list of 10 Patch objects>)"
      ]
     },
     "execution_count": 11,
     "metadata": {},
     "output_type": "execute_result"
    },
    {
     "data": {
      "image/png": "[encoded data removed]",
      "text/plain": [
       "<Figure size 432x288 with 1 Axes>"
      ]
     },
     "metadata": {
      "needs_background": "light"
     },
     "output_type": "display_data"
    }
   ],
   "source": [
    "plt.hist(best_model.predict(X_test_scaled))"
   ]
  },
  {
   "cell_type": "code",
   "execution_count": 14,
   "metadata": {
    "scrolled": true
   },
   "outputs": [
    {
     "data": {
      "text/plain": [
       "7.904774511223743"
      ]
     },
     "execution_count": 14,
     "metadata": {},
     "output_type": "execute_result"
    }
   ],
   "source": [
    "np.sqrt(mean_squared_error(y_test, best_model.predict(X_test_scaled)))"
   ]
  },
  {
   "cell_type": "code",
   "execution_count": 19,
   "metadata": {},
   "outputs": [],
   "source": [
    "test['loss'] = best_model.predict(scaler.transform(test[features]))"
   ]
  },
  {
   "cell_type": "code",
   "execution_count": 20,
   "metadata": {},
   "outputs": [],
   "source": [
    "test[['loss']].to_csv('../submission_keras.csv')"
   ]
  }
 ],
 "metadata": {
  "kernelspec": {
   "display_name": "Python 3",
   "language": "python",
   "name": "python3"
  },
  "language_info": {
   "codemirror_mode": {
    "name": "ipython",
    "version": 3
   },
   "file_extension": ".py",
   "mimetype": "text/x-python",
   "name": "python",
   "nbconvert_exporter": "python",
   "pygments_lexer": "ipython3",
   "version": "3.7.6"
  }
 },
 "nbformat": 4,
 "nbformat_minor": 4
}
